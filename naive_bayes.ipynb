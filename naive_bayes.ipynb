{
 "cells": [
  {
   "cell_type": "code",
   "execution_count": null,
   "metadata": {},
   "outputs": [],
   "source": [
    "import csv\n",
    "import numpy as np\n",
    "import random"
   ]
  },
  {
   "cell_type": "code",
   "execution_count": 133,
   "metadata": {},
   "outputs": [
    {
     "data": {
      "text/plain": [
       "['0',\n",
       " ' Emergency Room Reports',\n",
       " 'REASON FOR THE VISIT:,  Very high PT/INR.,HISTORY: , The patient is an 81-year-old lady whom I met last month when she came in with pneumonia and CHF.  She was noticed to be in atrial fibrillation, which is a chronic problem for her.  She did not want to have Coumadin started because she said that she has had it before and the INR has had been very difficult to regulate to the point that it was dangerous, but I convinced her to restart the Coumadin again.  I gave her the Coumadin as an outpatient and then the INR was found to be 12.  So, I told her to come to the emergency room to get vitamin K to reverse the anticoagulation.,PAST MEDICAL HISTORY:,1.  Congestive heart failure.,2.  Renal insufficiency.,3.  Coronary artery disease.,4.  Atrial fibrillation.,5.  COPD.,6.  Recent pneumonia.,7.  Bladder cancer.,8.  History of ruptured colon.,9.  Myocardial infarction.,10.  Hernia repair.,11.  Colon resection.,12.  Carpal tunnel repair.,13.  Knee surgery.,MEDICATIONS:,1.  Coumadin.,2.  Simvastatin.,3.  Nitrofurantoin.,4.  Celebrex.,5.  Digoxin.,6.  Levothyroxine.,7.  Vicodin.,8.  Triamterene and hydrochlorothiazide.,9.  Carvedilol.,SOCIAL HISTORY:  ,She does not smoke and she does not drink.,PHYSICAL EXAMINATION:,GENERAL:  Lady in no distress.,VITAL SIGNS:  Blood pressure 100/46, pulse of 75, respirations 12, and temperature 98.2.,HEENT:  Head is normal.,NECK:  Supple.,LUNGS:  Clear to auscultation and percussion.,HEART:  No S3, no S4, and no murmurs.,ABDOMEN:  Soft.,EXTREMITIES:  Lower extremities, no edema.,ASSESSMENT:,1.  Atrial fibrillation.,2.  Coagulopathy, induced by Coumadin.,PLAN: , Her INR at the office was 12.  I will repeat it, and if it is still elevated, I will give vitamin K 10 mg in 100 mL of D5W and then send her home and repeat the PT/INR next week.  I believe at this time that it is too risky to use Coumadin in her case because of her age and comorbidities, the multiple medications that she takes and it is very difficult to keep an adequate level of anticoagulation that is safe for her.  She is prone to a fall and this would be a big problem.  We will use one aspirin a day instead of the anticoagulation.  She is aware of the risk of stroke, but she is very scared of the anticoagulation with Coumadin and does not want to use the Coumadin at this time and I understand.  We will see her as an outpatient.',\n",
       " '0']"
      ]
     },
     "execution_count": 133,
     "metadata": {},
     "output_type": "execute_result"
    }
   ],
   "source": [
    "file = open(\"new_train.csv\", \"r\", encoding='utf-8')\n",
    "data = list(csv.reader(file, delimiter=\",\"))\n",
    "file.close()\n",
    "data = data[1:]\n",
    "data[0]"
   ]
  },
  {
   "cell_type": "code",
   "execution_count": 132,
   "metadata": {},
   "outputs": [
    {
     "name": "stdout",
     "output_type": "stream",
     "text": [
      "{0: 'Emergency Room Reports', 1: 'Surgery', 2: 'Radiology', 3: 'Podiatry', 4: 'Neurology', 5: 'Gastroenterology', 6: 'Orthopedic', 7: 'Cardiovascular / Pulmonary', 8: 'Nephrology', 9: 'ENT - Otolaryngology', 10: 'General Medicine', 11: 'Hematology - Oncology', 12: 'Cosmetic / Plastic Surgery', 13: 'SOAP / Chart / Progress Notes', 14: 'Chiropractic', 15: 'Psychiatry / Psychology', 16: 'Consult - History and Phy.', 17: 'Hospice - Palliative Care', 18: 'Neurosurgery', 19: 'Obstetrics / Gynecology', 20: 'Urology', 21: 'Discharge Summary', 22: 'Autopsy', 23: 'Dermatology', 24: 'Letters', 25: 'Office Notes', 26: 'Lab Medicine - Pathology', 27: 'Ophthalmology', 28: 'Speech - Language', 29: 'Dentistry', 30: 'Pediatrics - Neonatal', 31: 'Physical Medicine - Rehab', 32: 'Bariatrics', 33: 'Endocrinology', 34: 'Pain Management', 35: 'IME-QME-Work Comp etc.', 36: 'Allergy / Immunology', 37: 'Sleep Medicine', 38: 'Diets and Nutritions', 39: 'Rheumatology'}\n"
     ]
    }
   ],
   "source": [
    "# Get a map from label numbers to names\n",
    "label_map = {}\n",
    "for sample in data:\n",
    "    if int(sample[-1]) not in label_map:\n",
    "        label_map[int(sample[-1])] = sample[1].strip()\n",
    "print(label_map)"
   ]
  },
  {
   "cell_type": "code",
   "execution_count": 136,
   "metadata": {},
   "outputs": [
    {
     "data": {
      "text/plain": [
       "{9: 0.020660115898211137,\n",
       " 5: 0.044343663391282435,\n",
       " 16: 0.10330057949105569,\n",
       " 19: 0.030990173847316706,\n",
       " 4: 0.04283194759385236,\n",
       " 1: 0.21743512219702696,\n",
       " 11: 0.017132779037540943,\n",
       " 2: 0.05366591080876795,\n",
       " 10: 0.052658100277147894,\n",
       " 30: 0.013857394809775762,\n",
       " 7: 0.07785336356764928,\n",
       " 18: 0.017888636936255985,\n",
       " 21: 0.021919879062736205,\n",
       " 6: 0.072814310909549,\n",
       " 14: 0.0030234315948601664,\n",
       " 37: 0.0030234315948601664,\n",
       " 0: 0.015873015873015872,\n",
       " 29: 0.005291005291005291,\n",
       " 20: 0.033761652809271854,\n",
       " 24: 0.004787100025195263,\n",
       " 34: 0.013605442176870748,\n",
       " 13: 0.034013605442176874,\n",
       " 8: 0.015873015873015872,\n",
       " 33: 0.004031242126480222,\n",
       " 25: 0.009574200050390527,\n",
       " 23: 0.005291005291005291,\n",
       " 27: 0.016880826404635927,\n",
       " 32: 0.003779289493575208,\n",
       " 28: 0.002015621063240111,\n",
       " 15: 0.011337868480725623,\n",
       " 38: 0.0022675736961451248,\n",
       " 3: 0.008818342151675485,\n",
       " 12: 0.004787100025195263,\n",
       " 26: 0.0012597631645250692,\n",
       " 31: 0.004031242126480222,\n",
       " 35: 0.0030234315948601664,\n",
       " 17: 0.0015117157974300832,\n",
       " 22: 0.001763668430335097,\n",
       " 36: 0.0015117157974300832,\n",
       " 39: 0.0015117157974300832}"
      ]
     },
     "execution_count": 136,
     "metadata": {},
     "output_type": "execute_result"
    }
   ],
   "source": [
    "# Find frequency of each label in training data\n",
    "def get_probabilities(data):\n",
    "    counts = {}\n",
    "    for sample in data:\n",
    "        if int(sample[-1]) not in counts:\n",
    "            counts[int(sample[-1])] = 0\n",
    "        counts[int(sample[-1])] += 1\n",
    "    s = sum(counts.values())\n",
    "    probabilities = counts\n",
    "    for k in probabilities:\n",
    "        probabilities[k] /= s\n",
    "    return probabilities\n",
    "get_probabilities(data)"
   ]
  },
  {
   "cell_type": "code",
   "execution_count": null,
   "metadata": {},
   "outputs": [],
   "source": [
    "def tokenize(s):\n",
    "    '''Filter out non-alphabet characters\n",
    "    Standardize case\n",
    "    Return list of words'''\n",
    "    out = []\n",
    "    cur = \"\"\n",
    "    for c in s:\n",
    "        if c.isalpha():\n",
    "            cur += c.lower()\n",
    "        elif len(cur) > 0:\n",
    "            out.append(cur)\n",
    "            cur = \"\"\n",
    "    return out"
   ]
  },
  {
   "cell_type": "code",
   "execution_count": null,
   "metadata": {},
   "outputs": [],
   "source": [
    "# Get full list of words that appear\n",
    "def get_word_list(data):\n",
    "    words = set()\n",
    "    for sample in data:\n",
    "        for word in tokenize(sample[2]):\n",
    "            # Filter out common words\n",
    "            if len(word) > 2:\n",
    "                words.add(word)\n",
    "    return words\n",
    "word_list = get_word_list(data)"
   ]
  },
  {
   "cell_type": "code",
   "execution_count": null,
   "metadata": {},
   "outputs": [],
   "source": [
    "# Get frequency of words in data set\n",
    "def get_word_frequencies(data):\n",
    "    word_frequencies = {}\n",
    "    for sample in data:\n",
    "        words = set(tokenize(sample[2]))\n",
    "        for word in words:\n",
    "            if word not in word_frequencies:\n",
    "                word_frequencies[word] = 0\n",
    "            word_frequencies[word] += 1\n",
    "    s = sum(word_frequencies.values())\n",
    "    for word in word_frequencies:\n",
    "        word_frequencies[word] /= s\n",
    "    return word_frequencies"
   ]
  },
  {
   "cell_type": "code",
   "execution_count": null,
   "metadata": {},
   "outputs": [],
   "source": [
    "# Create a look-up table for the probability of a sample being a given class\n",
    "# given a word w is in the sample\n",
    "def create_lookup_table(word_list, data):\n",
    "    table = {}\n",
    "    sample_sets = []\n",
    "    for sample in data:\n",
    "        word_set = set(tokenize(sample[2]))\n",
    "        k = int(sample[3])  # class\n",
    "        for word in word_set:\n",
    "            if word not in word_list:\n",
    "                continue\n",
    "            if word not in table:\n",
    "                table[word] = {}\n",
    "            if k not in table[word]:\n",
    "                table[word][k] = 0\n",
    "            table[word][k] += 1\n",
    "    for word in table:\n",
    "        s = sum(table[word].values())\n",
    "        for k in table[word]:\n",
    "            table[word][k] /= s\n",
    "\n",
    "    return table\n",
    "\n",
    "prob_table = create_lookup_table(word_list, data)"
   ]
  },
  {
   "cell_type": "code",
   "execution_count": null,
   "metadata": {},
   "outputs": [],
   "source": [
    "def naive_bayes(text, probabilities, prob_table, word_frequencies):\n",
    "    words = set(tokenize(text))\n",
    "    best_class = -1\n",
    "    best_prob = 0\n",
    "    for label in label_map:\n",
    "        if label not in probabilities:\n",
    "            continue\n",
    "        cur_prob = np.log(probabilities[label])\n",
    "        for word in words:\n",
    "            if word in prob_table and word in word_frequencies:\n",
    "                if label in prob_table[word]:\n",
    "                    cur_prob += np.log(prob_table[word][label])\n",
    "                    #print(word, prob_table[word][label] / word_frequencies[word], prob_table[word][label], word_frequencies[word], cur_prob)\n",
    "                else:\n",
    "                    #print(label, word)\n",
    "                    cur_prob = 1\n",
    "            if cur_prob == 1:\n",
    "                break\n",
    "        #print(label, cur_prob)\n",
    "        if 1 > cur_prob and (cur_prob > best_prob or best_class == -1):\n",
    "            best_class = label\n",
    "            best_prob = cur_prob\n",
    "    return best_class, best_prob\n"
   ]
  },
  {
   "cell_type": "code",
   "execution_count": 138,
   "metadata": {},
   "outputs": [
    {
     "name": "stdout",
     "output_type": "stream",
     "text": [
      "0 0.7505102754780697\n",
      "1 0.8098715742889556\n",
      "2 0.8719104759515108\n",
      "3 0.863483051378766\n",
      "4 0.830973844190232\n",
      "5 0.7783300353938858\n",
      "6 0.7119673615211669\n",
      "7 0.8174002823881661\n",
      "8 0.7775076832763947\n",
      "9 0.7262653135642881\n"
     ]
    }
   ],
   "source": [
    "# Test model\n",
    "random.shuffle(data)\n",
    "segments = []\n",
    "for i in range(10):\n",
    "    segments.append(data[(i*len(data))//10:((i+1)*len(data))//10])\n",
    "for i in range(10):\n",
    "    train = []\n",
    "    for j in range(10):\n",
    "        if j != i:\n",
    "            train.extend(segments[i])\n",
    "    test = segments[i]\n",
    "    probabilities = get_probabilities(train)\n",
    "    word_list = get_word_list(train)\n",
    "    prob_table = create_lookup_table(word_list, train)\n",
    "    word_frequencies = get_word_frequencies(train)\n",
    "    correct = 0\n",
    "    preds = []\n",
    "    ts = []\n",
    "    for sample in test:\n",
    "        pred, _ = naive_bayes(sample[2], probabilities, prob_table, word_frequencies)\n",
    "        if pred == int(sample[3]):\n",
    "            correct += 1\n",
    "        preds.append(pred)\n",
    "        ts.append(int(sample[3]))\n",
    "    # Calculate F1 score\n",
    "    f1 = 0\n",
    "    for j in label_map:\n",
    "        f_neg = 0\n",
    "        pos = 0\n",
    "        p_pos = 0\n",
    "        t_pos = 0\n",
    "        for pred, t in zip(preds, ts):\n",
    "            if pred == j:\n",
    "                p_pos += 1\n",
    "            if t == j:\n",
    "                pos += 1\n",
    "                if pred != j:\n",
    "                    f_neg += 1\n",
    "                else:\n",
    "                    t_pos += 1\n",
    "        if t_pos > 0:\n",
    "            f1 += 2 / (p_pos / t_pos + pos / t_pos)\n",
    "    f1 /= len(label_map)\n",
    "    print(i, f1)\n"
   ]
  },
  {
   "cell_type": "code",
   "execution_count": 135,
   "metadata": {},
   "outputs": [
    {
     "name": "stdout",
     "output_type": "stream",
     "text": [
      "[(9, 9, -541.8803549657874), (5, 5, -488.6353880631637), (16, 16, -372.9608439596602), (19, 19, -341.0475813472801), (4, 4, -838.4421015884645), (1, 1, -319.4247897299166), (11, 11, -787.9327196130979), (2, 2, -202.9612179870478), (2, 2, -234.56382068551895), (16, 16, -277.12275781802845), (10, 10, -681.1572461658214), (4, 4, -124.75581020065268), (16, 16, -700.1476789415799), (5, 5, -243.00218909048073), (5, 5, -874.3141606852299), (10, 10, -540.085169905889), (1, 1, -416.87903448871714), (30, 30, -816.4555514111679), (16, 16, -123.81054160441641), (11, 11, -719.0726605718099), (7, 7, -401.0275345352372), (5, 5, -434.476472605986), (18, 18, -416.840088635203), (1, 1, -189.0940441471926), (5, 5, -294.70210713060175), (21, 21, -168.3620486473737), (6, 6, -215.6378565959888), (16, 16, -1116.0353722564362), (1, 1, -127.1794620295279), (16, 16, -590.1947171320218), (14, 14, -1522.8190064885084), (13, 37, -1035.843456205321), (10, 0, -447.52396103993067), (5, 5, -330.7507027095444), (2, 2, -353.4930937218694), (10, 10, -113.91345095565954), (0, 0, -679.2641124489601), (10, 10, -515.6936365887603), (1, 1, -249.08106108955295), (29, 29, -582.0189644451873), (1, 1, -272.93092887019696), (16, 16, -335.7015975439989), (1, 1, -358.08981683370934), (11, 11, -272.68951326717865), (20, 20, -535.7051373539726), (10, 10, -487.74387316045113), (24, 24, -271.007542584311), (16, 4, -1116.0353722564362), (34, 34, -678.0298284890268), (16, 16, -181.86701902051303), (10, 10, -385.79194662802325), (16, 16, -190.6354827400801), (19, 19, -677.653656515321), (19, 19, -663.107634154007), (1, 1, -135.3437201388326), (5, 5, -196.8848546607511), (9, 9, -129.92101848230502), (2, 2, -127.18006417694109), (20, 20, -309.97320658007686), (13, 13, -548.5277669254652), (19, 19, -456.54983391503765), (6, 6, -547.5747546365118), (7, 7, -108.30988991025856), (4, 2, -394.6290763455722), (2, 2, -71.15953419237488), (7, 7, -236.7726426007535), (1, 1, -153.45381118749708), (6, 6, -120.81371967904198), (1, 1, -257.69509605043714), (8, 8, -658.4934353962386), (33, 33, -770.3982239876547), (1, 1, -151.33835616569831), (16, 16, -254.62605671345895), (4, 4, -141.0867972337612), (1, 1, -103.2117889562683), (2, 2, -135.1230192080478), (6, 6, -285.43498671301836), (4, 4, -188.28287623445297), (10, 10, -418.3405843479252), (5, 5, -407.0763137436166), (1, 18, -115.89082329464475), (5, 5, -237.03819321638989), (5, 5, -573.1246276192875), (1, 1, -130.06449654300997), (25, 25, -461.81346549504644), (7, 7, -425.1531073163789), (13, 13, -473.3743013365611), (11, 11, -621.3997106008616), (16, 7, -385.3738550994176), (16, 16, -222.866382749127), (23, 23, -1418.9607510554883), (13, 13, -199.89383158351475), (27, 27, -472.8466636248269), (1, 1, -432.9913278607854), (16, 16, -323.3932373299007), (18, 18, -561.2067082640912), (5, 5, -553.6974083529257), (1, 1, -82.99657323272886), (4, 4, -437.1014955067852), (10, 10, -148.40638014989364), (1, 1, -155.76126709528768), (1, 1, -502.93020659563985), (16, 16, -347.6309397345014), (33, 33, -767.4297435349964), (2, 7, -529.8740922367413), (8, 8, -583.0948837480832), (13, 13, -425.20792981776736), (7, 7, -533.0349942766344), (1, 1, -129.96678301981333), (1, 2, -257.69509605043714), (6, 6, -689.0365949767316), (18, 18, -606.1144523453113), (1, 1, -187.23883582417346), (1, 1, -162.2767681323364), (7, 7, -505.38767870223825), (33, 33, -789.4210754568732), (20, 20, -694.7680709735083), (13, 13, -122.8700475126014), (16, 16, -318.5623437159004), (13, 13, -765.9111797751033), (1, 1, -269.7515254286222), (4, 4, -394.6290763455722), (16, 16, -531.5646140377945), (16, 16, -736.6826837857499), (1, 1, -248.78278187707522), (10, 10, -200.29574769682625), (20, 20, -330.70688756101373), (4, 4, -268.50972803280587), (1, 20, -17.415252856419986), (1, 1, -273.3744180778472), (13, 13, -171.62779348293887), (1, 1, -416.1579862055372), (18, 18, -277.1478492477404), (33, 33, -532.2965480829), (34, 34, -518.218372418615), (7, 7, -355.76287453840587), (7, 7, -116.80809268536744), (19, 19, -238.7838393990101), (6, 6, -158.8978089818118), (5, 5, -187.02314575463697), (4, 4, -389.2712928265731), (1, 1, -180.10638104313554), (1, 1, -146.1179452425188), (2, 2, -235.99942374361862), (9, 9, -499.79336202258526), (10, 10, -458.0007408228383), (21, 21, -451.41812849560665), (0, 0, -931.9072152499787), (4, 4, -131.28915130156122), (19, 19, -897.0683085490739), (2, 2, -499.0980567559089), (1, 1, -312.6413263237518), (32, 32, -369.27729152119156), (7, 7, -383.2413375249458), (2, 2, -131.56771794954506), (16, 16, -447.91035278415706), (1, 1, -201.64556054925754), (24, 24, -267.50158055847265), (19, 19, -603.8134160362913), (1, 1, -412.2963754819838), (1, 1, -119.25666052890588), (4, 4, -248.68837338841735), (2, 2, -253.8374397727039), (4, 4, -258.81547849936595), (6, 6, -454.8719898431342), (2, 2, -224.84356587958874), (18, 18, -452.353971523102), (1, 1, -77.01118905718056), (1, 1, -196.14591094313303), (1, 1, -294.87421077459675), (16, 16, -252.6929691948886), (1, 1, -195.207487855168), (7, 7, -398.60951044241176), (4, 4, -899.0993560176727), (10, 10, -571.2796028092521), (16, 16, -312.0003327563367), (7, 7, -179.39060201383253), (1, 1, -22.08760085249891), (18, 18, -669.8105600216516), (13, 13, -304.33978820262894), (1, 1, -117.79645420837905), (10, 10, -465.2036656076224), (2, 2, -366.6044282629761), (28, 28, -525.9165053603062), (15, 15, -44.191863919647695), (9, 9, -434.54779011572754), (1, 1, -240.87007110452927), (27, 27, -155.1182804669775), (38, 38, -686.8434147038489), (9, 9, -534.6720015110468), (16, 16, -332.2252748401321), (1, 19, -310.71763306843314), (6, 6, -508.21150662865455), (27, 27, -341.5523650737007), (16, 16, -245.33860424705628), (8, 8, -621.1916093968373), (9, 9, -500.67728851288507), (3, 3, -282.8471066365689), (7, 7, -390.7194177802941), (4, 4, -385.17245326979105), (21, 21, -440.2921872296491), (11, 11, -288.64685595933423), (1, 1, -356.7411106367399), (2, 2, -217.47693061428612), (6, 6, -789.0922032778889), (10, 10, -422.3670906399536), (4, 4, -364.45595548847035), (20, 20, -415.8284695044586), (18, 18, -469.6650154678575), (27, 27, -505.87433926476837), (9, 9, -202.41551770097553), (9, 9, -273.1202250720847), (7, 7, -187.09073056705464), (1, 1, -158.78600624302882), (12, 12, -218.70858028670563), (7, 7, -350.3517106412672), (1, 1, -238.0498125338242), (4, 4, -168.16848030894192), (10, 10, -274.2824087698858), (6, 6, -133.89051449011762), (20, 20, -858.0596023433039), (1, 1, -84.32069593472306), (7, 7, -447.0146485132251), (4, 4, -661.4712693782512), (10, 10, -399.1579825235069), (1, 1, -309.025149562442), (1, 11, -129.96678301981333), (3, 3, -874.0011944205111), (7, 7, -158.6777771207242), (19, 19, -321.1333784715099), (16, 4, -490.6337394110253), (7, 7, -655.325522651181), (1, 1, -102.16446585328691), (16, 16, -622.7586049028829), (16, 16, -542.5064682906211), (23, 23, -502.5836302822554), (2, 2, -779.127809658816), (1, 1, -286.06622769140216), (1, 1, -32.541453375320934), (16, 16, -866.8285511168405), (9, 9, -258.71658158397815), (16, 30, -447.91035278415706), (6, 6, -240.0615872503376), (4, 2, -262.62768967044263), (10, 10, -447.52396103993067), (1, 1, -248.71389610115918), (1, 1, -619.221406330492), (10, 10, -250.53750913917366), (4, 4, -125.67755363582972), (4, 4, -513.8846750121891), (34, 34, -354.23279201540424), (7, 7, -315.4069528762894), (1, 1, -242.80654754577188), (21, 21, -558.2317703262086), (9, 9, -777.136818161767), (7, 7, -461.92474053902725), (10, 10, -524.4679940090441), (2, 2, -166.7112653574076), (1, 1, -156.26720230642158), (5, 5, -193.7890987038898), (2, 2, -201.7228347167786), (1, 1, -317.79771980568796), (1, 1, -527.702759597746), (7, 7, -98.04048641797485), (18, 18, -695.4703427773959), (9, 9, -355.38727683669674), (1, 1, -382.7088171432053), (5, 5, -229.88643073975996), (1, 1, -168.44058415382347), (16, 16, -380.9547167288164), (8, 8, -536.8925860012206), (1, 1, -158.95661161766523), (4, 4, -366.431199633501), (7, 7, -211.99322469918627), (15, 15, -562.8336938063944), (26, 26, -300.63225300955173), (7, 7, -230.0260320289749), (7, 7, -279.52229660704234), (1, 1, -230.04301121606343), (11, 11, -334.9395084066362), (7, 2, -12.484772859816045), (30, 30, -471.56174084080806), (2, 2, -129.7623711277465), (4, 4, -544.9179756135146), (5, 5, -132.87228987377958), (1, 1, -153.3493802275888), (23, 23, -702.626089083734), (1, 1, -319.38230179285364), (8, 8, -879.9728099470989), (37, 37, -773.1378836864773), (2, 2, -292.85335742337804), (6, 6, -613.8996319234516), (11, 11, -353.486892200674), (1, 12, -189.0940441471926), (16, 16, -647.6638059906545), (1, 1, -181.85279801139427), (2, 2, -401.92863270428705), (33, 33, -970.6828491855761), (16, 16, -569.2444473486914), (1, 1, -230.3402445008737), (4, 4, -262.62768967044263), (1, 1, -223.53248215654028), (7, 7, -364.4565603518501), (20, 20, -575.3086269822915), (20, 20, -429.2270734409836), (7, 7, -447.26255332216135), (6, 6, -478.80418273401034), (16, 16, -385.3738550994176), (1, 1, -155.23409891099186), (7, 7, -140.85613512493813), (18, 18, -618.4194273885743), (30, 30, -536.3900514381311), (34, 34, -227.5588333834764), (7, 7, -253.88252691890338), (13, 13, -245.61601699632956), (7, 7, -461.8478188803784), (1, 27, -103.2117889562683), (25, 25, -311.3794196465179), (9, 9, -311.1267011330972), (16, 16, -592.4802432234541), (1, 1, -233.46044480401488), (7, 7, -279.1436977085665), (10, 10, -467.3886876630745), (5, 5, -593.7538196606212), (4, 4, -213.21430102046287), (0, 0, -474.39701215623694), (1, 1, -112.57584326228415), (1, 5, -312.6413263237518), (15, 15, -915.7088976203102), (30, 30, -411.88929187351823), (2, 2, -529.8740922367413), (24, 24, -353.44742889868576), (16, 16, -251.71199147736604), (16, 16, -310.61867011907367), (6, 6, -633.8336322770666), (6, 6, -362.62573990090976), (6, 6, -375.5531757630614), (23, 23, -221.4626474631891), (2, 2, -161.19464240070602), (7, 7, -183.69894230684716), (6, 6, -909.5230251049055), (32, 32, -371.9601029297978), (6, 6, -191.31657190341218), (13, 13, -1035.843456205321), (9, 9, -226.03533358999226), (27, 27, -286.1802475369464), (7, 7, -48.128501750516314), (27, 27, -654.770369885385), (18, 18, -446.35144600896837), (20, 20, -553.6548688258258), (6, 6, -619.7442078390542), (5, 5, -364.212999680571), (2, 2, -172.23094197861806), (16, 6, -277.12275781802845), (9, 9, -308.999203078395), (6, 6, -531.5999563377467), (10, 10, -393.4558377812263), (1, 1, -373.9593834862441), (8, 8, -434.84458036400247), (1, 1, -76.32279923666442), (29, 29, -767.9954754106134), (16, 16, -295.02168572724656), (6, 6, -436.9832375596708), (19, 19, -383.40334045281026), (1, 1, -238.46970135932958), (1, 1, -167.75872459180235), (1, 1, -324.411194052461), (24, 24, -835.3623574695405), (1, 1, -121.34323973035542), (1, 1, -264.90047592867626), (7, 7, -249.077127556607), (15, 15, -1272.3597127610838), (1, 1, -217.04160482315908), (13, 13, -345.1856823359685), (2, 2, -185.28104638206997), (2, 31, -353.4930937218694), (6, 6, -285.06403730754454), (4, 4, -564.0007180729359), (3, 3, -113.60620729262833), (1, 1, -282.5027380868739), (13, 13, -481.713637004421), (1, 1, -193.9797407113409), (18, 18, -388.8346882632788), (1, 1, -115.89082329464475), (4, 4, -481.55085094641163), (20, 20, -315.8762095003815), (4, 6, -188.28287623445297), (1, 1, -322.49026988106004), (32, 32, -334.58740092447465), (1, 1, -310.71763306843314), (1, 1, -247.7497178825224), (16, 16, -490.6337394110253), (2, 2, -146.8753675316244), (11, 11, -498.28716718768874), (5, 5, -670.0790708827238), (4, 4, -281.6940296155484)]\n"
     ]
    }
   ],
   "source": [
    "print(list(zip(preds, t)))"
   ]
  },
  {
   "cell_type": "code",
   "execution_count": null,
   "metadata": {},
   "outputs": [],
   "source": [
    "print(probabilities)"
   ]
  },
  {
   "cell_type": "code",
   "execution_count": null,
   "metadata": {},
   "outputs": [],
   "source": [
    "naive_bayes(data[1][2], probabilities, prob_table, word_frequencies)"
   ]
  },
  {
   "cell_type": "code",
   "execution_count": null,
   "metadata": {},
   "outputs": [],
   "source": [
    "label_map"
   ]
  },
  {
   "cell_type": "code",
   "execution_count": null,
   "metadata": {},
   "outputs": [],
   "source": [
    "word_frequencies"
   ]
  },
  {
   "cell_type": "code",
   "execution_count": null,
   "metadata": {},
   "outputs": [],
   "source": []
  }
 ],
 "metadata": {
  "kernelspec": {
   "display_name": "Python 3",
   "language": "python",
   "name": "python3"
  },
  "language_info": {
   "codemirror_mode": {
    "name": "ipython",
    "version": 3
   },
   "file_extension": ".py",
   "mimetype": "text/x-python",
   "name": "python",
   "nbconvert_exporter": "python",
   "pygments_lexer": "ipython3",
   "version": "3.10.0"
  },
  "orig_nbformat": 4,
  "vscode": {
   "interpreter": {
    "hash": "c7528e716e7713c77a75c18e66415c54a30bf046e9276dc6bf79922f90d62eeb"
   }
  }
 },
 "nbformat": 4,
 "nbformat_minor": 2
}
